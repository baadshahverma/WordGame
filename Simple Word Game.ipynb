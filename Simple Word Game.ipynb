{
 "cells": [
  {
   "cell_type": "code",
   "execution_count": 1,
   "metadata": {},
   "outputs": [
    {
     "data": {
      "text/plain": [
       "'\\n\\nProgrammer: Baadshah Verma\\nDate: October 5th, 2018\\n\\nThis program is a word game. The user is given two letters to start, which they\\nwill have to take and come up with a word that starts with the first letter and\\nends with the second letter. This word will be validated to see if it is in the\\nlist of cleansed words and scored accordingly. The score will be kept throughout\\nthe game.\\n\\n'"
      ]
     },
     "execution_count": 1,
     "metadata": {},
     "output_type": "execute_result"
    }
   ],
   "source": [
    "'''\n",
    "\n",
    "Programmer: Baadshah Verma\n",
    "Date: October 5th, 2018\n",
    "\n",
    "This program is a word game. The user is given two letters to start, which they\n",
    "will have to take and come up with a word that starts with the first letter and\n",
    "ends with the second letter. This word will be validated to see if it is in the\n",
    "list of cleansed words and scored accordingly. The score will be kept throughout\n",
    "the game.\n",
    "\n",
    "'''"
   ]
  },
  {
   "cell_type": "code",
   "execution_count": 2,
   "metadata": {
    "collapsed": true
   },
   "outputs": [],
   "source": [
    "#import necessary modules to begin program\n",
    "import urllib.request\n",
    "import random"
   ]
  },
  {
   "cell_type": "code",
   "execution_count": 3,
   "metadata": {
    "collapsed": true
   },
   "outputs": [],
   "source": [
    "#reads file from the webpage and stores all words into a list\n",
    "def readWordList():\n",
    "    response = urllib.request.urlopen(\"http://www.mit.edu/~ecprice/wordlist.10000\")\n",
    "    html = response.read()\n",
    "    data = html.decode('utf-8').split()\n",
    "    return data"
   ]
  },
  {
   "cell_type": "code",
   "execution_count": 5,
   "metadata": {},
   "outputs": [],
   "source": [
    "#cleans list up and appends valid words to new_list\n",
    "def cleanse(data = readWordList()):\n",
    "    new_list = []\n",
    "    for word in data:\n",
    "        if len(word) >= 1 and len(set(word)) >= 2: #adds words according to criteria\n",
    "            new_list.append(word)\n",
    "        elif len(word) == 1 and len(set(word)) == 1:\n",
    "            new_list.append(word)\n",
    "    return new_list"
   ]
  },
  {
   "cell_type": "code",
   "execution_count": 6,
   "metadata": {
    "collapsed": true
   },
   "outputs": [],
   "source": [
    "#tests the cleanse function with a list of different cases - prints result\n",
    "def test():\n",
    "    cleanedList = cleanse(['aa','bcds','hello','jury','bbb'])\n",
    "    print(cleanedList)"
   ]
  },
  {
   "cell_type": "code",
   "execution_count": 7,
   "metadata": {
    "collapsed": true
   },
   "outputs": [],
   "source": [
    "#chooses a random letter from the alphabet and returns it\n",
    "def randomNum():\n",
    "    alphabet = ['a','b','c','d','e','f','g','h','i','j','k','l','m','n','o','p','q','r','s','t','u','v','w','x','y','z']\n",
    "    position = random.randint(0,25) \n",
    "    letter = alphabet[position] #selecting letter based upon random index number\n",
    "    return letter"
   ]
  },
  {
   "cell_type": "code",
   "execution_count": 8,
   "metadata": {
    "collapsed": true
   },
   "outputs": [],
   "source": [
    "#criteria to gainpoints\n",
    "def gainPoints(wordGuess, letterA, letterB):\n",
    "    new_list = cleanse()\n",
    "    \n",
    "    roundScore = 0\n",
    "    gameScore = 0\n",
    "    letter_values = {'a': 1, 'b': 2, 'c': 3, 'd': 4, 'e': 1, 'f': 5, 'g': 2, 'h': 3, 'i': 1, 'j': 9, 'k': 5, 'l': 1, 'm': 2, 'n': 2, 'o': 1, 'p': 4, 'q': 15, 'r': 1, 's': 1, 't': 1, 'u': 1, 'v': 8, 'w': 4, 'x': 15, 'y': 4, 'z': 15} \n",
    "\n",
    "    #premium added for words over 6 letters \n",
    "    if len(wordGuess) == 6:\n",
    "        roundScore = roundScore + 3\n",
    "    elif len(wordGuess) == 7:\n",
    "        roundScore = roundScore + 4\n",
    "    elif len(wordGuess) == 8:\n",
    "        roundScore = roundScore + 5\n",
    "    elif len(wordGuess) > 8:\n",
    "        roundScore = roundScore + 6\n",
    "    else:\n",
    "        if letterA == letterB:  #checking if first and last letters are the same; bonus 10 points\n",
    "            roundScore = roundScore + 10\n",
    "\n",
    "    #checks every letter in wordGuess for letter_values, adding each value to the roundScore\n",
    "    for letter in wordGuess:\n",
    "        for key in letter_values:\n",
    "            if letter == key:\n",
    "                roundScore = roundScore + letter_values[key]\n",
    "    gameScore = gameScore + roundScore\n",
    "\n",
    "    #print out round and overall game score\n",
    "    print(\"Your score this round is: \" + str(roundScore))\n",
    "    print(\"Your overall score this round is: \" + str(gameScore))"
   ]
  },
  {
   "cell_type": "code",
   "execution_count": 9,
   "metadata": {
    "collapsed": true
   },
   "outputs": [],
   "source": [
    "#criteria to losepoints\n",
    "def losePoints(wordGuess,letterA,letterB):\n",
    "    new_list = cleanse()\n",
    "    roundScore = 0\n",
    "    gameScore = 0\n",
    "\n",
    "    #score reduced for stated criterion\n",
    "    if wordGuess not in new_list:\n",
    "        roundScore = roundScore - 10\n",
    "    elif wordGuess[0] != letterA and wordGuess[-1] != letterB:\n",
    "        roundScore = roundScore - 2\n",
    "    else:\n",
    "        if wordGuess[0] != letterA or wordGuess[-1] != letterB:\n",
    "            roundScore = roundScore - 2\n",
    "    gameScore = gameScore + roundScore\n",
    "\n",
    "    #print out round and overall game score\n",
    "    print(\"Your score this round is: \" + str(roundScore))\n",
    "    print(\"Your overall score is: \" + str(gameScore))"
   ]
  },
  {
   "cell_type": "code",
   "execution_count": 10,
   "metadata": {
    "collapsed": true
   },
   "outputs": [],
   "source": [
    "#this runs and initiatiates the game. The user is asked for an input and it is put through scoring criteria\n",
    "def userTurn():\n",
    "    print(\"Welcome to the word game! I hope you have fun!\")\n",
    "    new_list = cleanse()\n",
    "\n",
    "    #loop to initiate 5 rounds\n",
    "    for i in range(5):\n",
    "\n",
    "        #random first and last letter\n",
    "        letterA = randomNum()\n",
    "        letterB = randomNum()\n",
    "\n",
    "        #gets word input from user \n",
    "        wordGuess = input(\"Enter a word that begins with \" + letterA + \" and ends with \" + letterB + \": \")        \n",
    "\n",
    "        #checks if word is in list or not and calculates score by calling appropriate function\n",
    "        if wordGuess in new_list:\n",
    "            gainPoints(wordGuess,letterA,letterB)\n",
    "            print(\"This word is valid, congrats\")\n",
    "            userMove = input(\"Would you like to 'Continue' or 'Quit' ? \")\n",
    "            if userMove == \"Continue\":\n",
    "                print(\"Moving to the next round\")\n",
    "                continue\n",
    "            #assume that if you get the word wrong, the game ends\n",
    "            else:\n",
    "                print(\"Good Game!\")\n",
    "                return\n",
    "        else:\n",
    "            losePoints(wordGuess,letterA,letterB)\n",
    "            print(\"This word is invalid\")\n",
    "            print(\"Good Game!\")\n",
    "            return"
   ]
  },
  {
   "cell_type": "code",
   "execution_count": null,
   "metadata": {},
   "outputs": [
    {
     "name": "stdout",
     "output_type": "stream",
     "text": [
      "Welcome to the word game! I hope you have fun!\n"
     ]
    }
   ],
   "source": [
    "userTurn()"
   ]
  },
  {
   "cell_type": "code",
   "execution_count": null,
   "metadata": {
    "collapsed": true
   },
   "outputs": [],
   "source": []
  }
 ],
 "metadata": {
  "kernelspec": {
   "display_name": "Python 3",
   "language": "python",
   "name": "python3"
  },
  "language_info": {
   "codemirror_mode": {
    "name": "ipython",
    "version": 3
   },
   "file_extension": ".py",
   "mimetype": "text/x-python",
   "name": "python",
   "nbconvert_exporter": "python",
   "pygments_lexer": "ipython3",
   "version": "3.6.3"
  }
 },
 "nbformat": 4,
 "nbformat_minor": 2
}
